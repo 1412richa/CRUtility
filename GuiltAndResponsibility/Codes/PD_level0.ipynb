{
 "cells": [
  {
   "cell_type": "code",
   "execution_count": 1,
   "id": "0320dbcc-14b1-45c8-a969-d280df593423",
   "metadata": {},
   "outputs": [],
   "source": [
    "# install packages if imports dont work\n",
    "\n",
    "import numpy as np\n",
    "import pandas as pd\n",
    "import seaborn as sns\n",
    "import os\n",
    "from numpy.polynomial import polynomial as P\n",
    "from matplotlib import pyplot as plt"
   ]
  },
  {
   "cell_type": "markdown",
   "id": "48bf0087-6f7e-43a2-bfb5-c8ecbf3b53c1",
   "metadata": {},
   "source": [
    "#### Information about the data set:\n",
    "\n",
    "Title: Inferring strategies from observations in long iterated prisoner’s dilemma experiments\n",
    "\n",
    "Link: https://datadryad.org/stash/dataset/doi:10.5061%2Fdryad.37pvmcvmk\n",
    "\n",
    "Game: Repeated PD randomly; matched partners\n",
    "\n",
    "Payoff matrix:\n",
    "\n",
    "\n",
    "| Player\\Opponent | C        | D    |\n",
    "| ------          | ----- | ---- |\n",
    "| **C**           | (3, 3)     | (0, 4) |\n",
    "| **D**           | (4, 0)     | (1, 1) |"
   ]
  },
  {
   "cell_type": "code",
   "execution_count": 2,
   "id": "bcd9fe0b-06a7-4775-ba8f-9902a512b03e",
   "metadata": {},
   "outputs": [
    {
     "name": "stdout",
     "output_type": "stream",
     "text": [
      "Before=C:\\Users\\1412r\\sciebo\\GuiltAndResponsibility\\Codes\n",
      "After=C:\\Users\\1412r\\sciebo\\GuiltAndResponsibility\n"
     ]
    }
   ],
   "source": [
    "# Setting working directory\n",
    "\n",
    "print(f'Before={os.getcwd()}') \n",
    "#os.chdir('C:\\\\Users\\\\1412r\\\\sciebo\\\\GuiltAndResponsibility') # Set wd to \\sciebo\\GuiltAndResponsibility\n",
    "#print(f'After={os.getcwd()}')"
   ]
  },
  {
   "cell_type": "code",
   "execution_count": 3,
   "id": "594a1e2c-2bc2-468a-936b-e96c5a128a22",
   "metadata": {},
   "outputs": [],
   "source": [
    "# Get csv data\n",
    "\n",
    "#print(os.getcwd())\n",
    "path = 'Data/PD_Data1/rand.csv'\n",
    "df = pd.read_csv(path, header=0, delimiter=';')\n",
    "\n",
    "#df.head()"
   ]
  },
  {
   "cell_type": "code",
   "execution_count": 4,
   "id": "67f394cf-ee8e-4ffd-b1aa-6d1315fc5ae1",
   "metadata": {},
   "outputs": [],
   "source": [
    "# Housekeeping\n",
    "\n",
    "drop_cols = ['time_php', 'time_js', 'treatment', 'context', 'prev', 'prev_player',  'prev_opp', 'session']\n",
    "df.drop(columns=drop_cols, inplace=True)"
   ]
  },
  {
   "cell_type": "code",
   "execution_count": 5,
   "id": "fd4d6d70-b87d-4544-9876-5b8482bf403c",
   "metadata": {},
   "outputs": [
    {
     "name": "stdout",
     "output_type": "stream",
     "text": [
      "The shape of df is (9600, 6)\n",
      "\n",
      "                round  action_player  opponent  action_opponent  payoff\n",
      "player                                                                 \n",
      "s11n9usuario1     100            100       100              100     100\n",
      "s11n9usuario10    100            100       100              100     100\n",
      "s11n9usuario2     100            100       100              100     100\n",
      "s11n9usuario3     100            100       100              100     100\n",
      "s11n9usuario4     100            100       100              100     100\n",
      "...               ...            ...       ...              ...     ...\n",
      "s7m22usuario5     100            100       100              100     100\n",
      "s7m22usuario6     100            100       100              100     100\n",
      "s7m22usuario7     100            100       100              100     100\n",
      "s7m22usuario8     100            100       100              100     100\n",
      "s7m22usuario9     100            100       100              100     100\n",
      "\n",
      "[96 rows x 5 columns]\n",
      "<class 'pandas.core.frame.DataFrame'>\n",
      "RangeIndex: 9600 entries, 0 to 9599\n",
      "Data columns (total 6 columns):\n",
      " #   Column           Non-Null Count  Dtype \n",
      "---  ------           --------------  ----- \n",
      " 0   round            9600 non-null   int64 \n",
      " 1   player           9600 non-null   object\n",
      " 2   action_player    9600 non-null   object\n",
      " 3   opponent         9600 non-null   object\n",
      " 4   action_opponent  9600 non-null   object\n",
      " 5   payoff           9600 non-null   int64 \n",
      "dtypes: int64(2), object(4)\n",
      "memory usage: 450.1+ KB\n",
      "None\n"
     ]
    },
    {
     "data": {
      "text/html": [
       "<div>\n",
       "<style scoped>\n",
       "    .dataframe tbody tr th:only-of-type {\n",
       "        vertical-align: middle;\n",
       "    }\n",
       "\n",
       "    .dataframe tbody tr th {\n",
       "        vertical-align: top;\n",
       "    }\n",
       "\n",
       "    .dataframe thead th {\n",
       "        text-align: right;\n",
       "    }\n",
       "</style>\n",
       "<table border=\"1\" class=\"dataframe\">\n",
       "  <thead>\n",
       "    <tr style=\"text-align: right;\">\n",
       "      <th></th>\n",
       "      <th>round</th>\n",
       "      <th>payoff</th>\n",
       "    </tr>\n",
       "  </thead>\n",
       "  <tbody>\n",
       "    <tr>\n",
       "      <th>count</th>\n",
       "      <td>9600.000000</td>\n",
       "      <td>9600.000000</td>\n",
       "    </tr>\n",
       "    <tr>\n",
       "      <th>mean</th>\n",
       "      <td>50.500000</td>\n",
       "      <td>1.570417</td>\n",
       "    </tr>\n",
       "    <tr>\n",
       "      <th>std</th>\n",
       "      <td>28.867574</td>\n",
       "      <td>1.421502</td>\n",
       "    </tr>\n",
       "    <tr>\n",
       "      <th>min</th>\n",
       "      <td>1.000000</td>\n",
       "      <td>0.000000</td>\n",
       "    </tr>\n",
       "    <tr>\n",
       "      <th>25%</th>\n",
       "      <td>25.750000</td>\n",
       "      <td>1.000000</td>\n",
       "    </tr>\n",
       "    <tr>\n",
       "      <th>50%</th>\n",
       "      <td>50.500000</td>\n",
       "      <td>1.000000</td>\n",
       "    </tr>\n",
       "    <tr>\n",
       "      <th>75%</th>\n",
       "      <td>75.250000</td>\n",
       "      <td>3.000000</td>\n",
       "    </tr>\n",
       "    <tr>\n",
       "      <th>max</th>\n",
       "      <td>100.000000</td>\n",
       "      <td>4.000000</td>\n",
       "    </tr>\n",
       "  </tbody>\n",
       "</table>\n",
       "</div>"
      ],
      "text/plain": [
       "             round       payoff\n",
       "count  9600.000000  9600.000000\n",
       "mean     50.500000     1.570417\n",
       "std      28.867574     1.421502\n",
       "min       1.000000     0.000000\n",
       "25%      25.750000     1.000000\n",
       "50%      50.500000     1.000000\n",
       "75%      75.250000     3.000000\n",
       "max     100.000000     4.000000"
      ]
     },
     "execution_count": 5,
     "metadata": {},
     "output_type": "execute_result"
    }
   ],
   "source": [
    "# Checking how the dataset looks\n",
    "\n",
    "print(f'The shape of df is {df.shape}\\n')\n",
    "print(df.groupby(['player']).count())\n",
    "print(df.info())\n",
    "df.describe()"
   ]
  },
  {
   "cell_type": "markdown",
   "id": "a8bedd66-13f7-422e-8f61-f216df3e8a98",
   "metadata": {},
   "source": [
    "1) 96 subjects with mostly 100 trials each\n",
    "2) action_player is the dependent variable, payoff is one of the dependent variable\n",
    "3) No NaN values\n",
    "\n",
    "4) Mean payoff is 1.57, closest to 1 in the payoff matrix, which is obtained by the combination of actions (D, D)"
   ]
  },
  {
   "cell_type": "code",
   "execution_count": 6,
   "id": "1c853f39-c380-4348-95a8-aaa29c19e112",
   "metadata": {},
   "outputs": [
    {
     "name": "stderr",
     "output_type": "stream",
     "text": [
      "C:\\Users\\1412r\\anaconda3\\lib\\site-packages\\pandas\\core\\indexing.py:1637: SettingWithCopyWarning: \n",
      "A value is trying to be set on a copy of a slice from a DataFrame\n",
      "\n",
      "See the caveats in the documentation: https://pandas.pydata.org/pandas-docs/stable/user_guide/indexing.html#returning-a-view-versus-a-copy\n",
      "  self._setitem_single_block(indexer, value, name)\n"
     ]
    }
   ],
   "source": [
    "# Add column for the partner's payoff\n",
    "\n",
    "df['payoff_opponent'] = df['payoff'] # Payoffs are same when both take the same action\n",
    "df['payoff_opponent'].loc[(df['action_player']=='C') & (df['action_opponent']=='D')] = 4\n",
    "df['payoff_opponent'].loc[(df['action_player']=='D') & (df['action_opponent']=='C')] = 0"
   ]
  },
  {
   "cell_type": "code",
   "execution_count": 7,
   "id": "b64323e0-3d3a-4e67-a407-ab2530ace0c3",
   "metadata": {},
   "outputs": [
    {
     "data": {
      "text/html": [
       "<div>\n",
       "<style scoped>\n",
       "    .dataframe tbody tr th:only-of-type {\n",
       "        vertical-align: middle;\n",
       "    }\n",
       "\n",
       "    .dataframe tbody tr th {\n",
       "        vertical-align: top;\n",
       "    }\n",
       "\n",
       "    .dataframe thead th {\n",
       "        text-align: right;\n",
       "    }\n",
       "</style>\n",
       "<table border=\"1\" class=\"dataframe\">\n",
       "  <thead>\n",
       "    <tr style=\"text-align: right;\">\n",
       "      <th></th>\n",
       "      <th>round</th>\n",
       "      <th>player</th>\n",
       "      <th>action_player</th>\n",
       "      <th>opponent</th>\n",
       "      <th>action_opponent</th>\n",
       "      <th>payoff</th>\n",
       "      <th>payoff_opponent</th>\n",
       "    </tr>\n",
       "  </thead>\n",
       "  <tbody>\n",
       "    <tr>\n",
       "      <th>0</th>\n",
       "      <td>1</td>\n",
       "      <td>s11n9usuario1</td>\n",
       "      <td>C</td>\n",
       "      <td>s11n9usuario10</td>\n",
       "      <td>C</td>\n",
       "      <td>3</td>\n",
       "      <td>3</td>\n",
       "    </tr>\n",
       "    <tr>\n",
       "      <th>1</th>\n",
       "      <td>2</td>\n",
       "      <td>s11n9usuario1</td>\n",
       "      <td>C</td>\n",
       "      <td>s11n9usuario10</td>\n",
       "      <td>D</td>\n",
       "      <td>0</td>\n",
       "      <td>4</td>\n",
       "    </tr>\n",
       "    <tr>\n",
       "      <th>2</th>\n",
       "      <td>3</td>\n",
       "      <td>s11n9usuario1</td>\n",
       "      <td>C</td>\n",
       "      <td>s11n9usuario7</td>\n",
       "      <td>C</td>\n",
       "      <td>3</td>\n",
       "      <td>3</td>\n",
       "    </tr>\n",
       "    <tr>\n",
       "      <th>3</th>\n",
       "      <td>4</td>\n",
       "      <td>s11n9usuario1</td>\n",
       "      <td>C</td>\n",
       "      <td>s11n9usuario8</td>\n",
       "      <td>D</td>\n",
       "      <td>0</td>\n",
       "      <td>4</td>\n",
       "    </tr>\n",
       "    <tr>\n",
       "      <th>4</th>\n",
       "      <td>5</td>\n",
       "      <td>s11n9usuario1</td>\n",
       "      <td>C</td>\n",
       "      <td>s11n9usuario7</td>\n",
       "      <td>C</td>\n",
       "      <td>3</td>\n",
       "      <td>3</td>\n",
       "    </tr>\n",
       "  </tbody>\n",
       "</table>\n",
       "</div>"
      ],
      "text/plain": [
       "   round         player action_player        opponent action_opponent  payoff  \\\n",
       "0      1  s11n9usuario1             C  s11n9usuario10               C       3   \n",
       "1      2  s11n9usuario1             C  s11n9usuario10               D       0   \n",
       "2      3  s11n9usuario1             C   s11n9usuario7               C       3   \n",
       "3      4  s11n9usuario1             C   s11n9usuario8               D       0   \n",
       "4      5  s11n9usuario1             C   s11n9usuario7               C       3   \n",
       "\n",
       "   payoff_opponent  \n",
       "0                3  \n",
       "1                4  \n",
       "2                3  \n",
       "3                4  \n",
       "4                3  "
      ]
     },
     "execution_count": 7,
     "metadata": {},
     "output_type": "execute_result"
    }
   ],
   "source": [
    "df.head() \n",
    "#df.tail() # see last 5 rows"
   ]
  },
  {
   "cell_type": "code",
   "execution_count": 8,
   "id": "dd317d15-bf5d-4bf9-a157-73135db15d01",
   "metadata": {},
   "outputs": [
    {
     "name": "stdout",
     "output_type": "stream",
     "text": [
      "The number of rows with equal payoffs is 5744\n"
     ]
    },
    {
     "data": {
      "text/plain": [
       "<AxesSubplot:>"
      ]
     },
     "execution_count": 8,
     "metadata": {},
     "output_type": "execute_result"
    },
    {
     "data": {
      "image/png": "[encoded data removed]",
      "text/plain": [
       "<Figure size 432x288 with 1 Axes>"
      ]
     },
     "metadata": {
      "needs_background": "light"
     },
     "output_type": "display_data"
    }
   ],
   "source": [
    "# Checking fraction of rows with equal payoffs\n",
    "\n",
    "number_of_participants = len(df['player'].unique())\n",
    "x = (df[df['payoff']==df['payoff_opponent']]).shape[0]\n",
    "print(f'The number of rows with equal payoffs is {x}')\n",
    "\n",
    "frac = (df[df['payoff']==df['payoff_opponent']].value_counts(subset=['player'])/df.value_counts(subset=['player']))\n",
    "sns.scatterplot(y=frac, x=range(number_of_participants))\n"
   ]
  },
  {
   "cell_type": "markdown",
   "id": "f13e75fd-4181-4476-a170-f21329e4f37c",
   "metadata": {},
   "source": [
    "Again, atleast 1/3 of rows have equal payoff for both self and other for every participant (???)"
   ]
  },
  {
   "cell_type": "markdown",
   "id": "4cc5f2b7-564c-4020-8d45-77fe908f1939",
   "metadata": {},
   "source": [
    "# Zero level Player"
   ]
  },
  {
   "cell_type": "markdown",
   "id": "af49d886-8d79-4be1-a699-538b96aa73aa",
   "metadata": {},
   "source": [
    "Payoff matrix:\n",
    "\n",
    "\n",
    "| Player\\Opponent | C        | D    |\n",
    "| ------          | ----- | ---- |\n",
    "| **C**           | $$(3, 3)$$     | $$(4\\alpha_1, 4)$$ |\n",
    "| **D**           | $$(4(1-\\beta_1), 0)$$     | $$(1, 1)$$ |"
   ]
  },
  {
   "cell_type": "markdown",
   "id": "7fc11f92-73f2-435e-82a5-81701b3b5ba0",
   "metadata": {},
   "source": [
    "#### (Change the table below into a graph, its better for visualization)\n",
    "Best response of the player (format: (when opponent plays C, when opponent plays D)):\n",
    "\n",
    "|  | $$\\alpha < \\frac{1}{4}$$      | $$\\alpha > \\frac{1}{4}$$   |\n",
    "| ------          | ----- | ---- |\n",
    "| **$$\\beta < \\frac{1}{4}$$**           | (D, D)     | (D, C) |\n",
    "| **$$\\beta > \\frac{1}{4}$$**           | (C, D)     | (C, C) |"
   ]
  },
  {
   "cell_type": "markdown",
   "id": "3bd5dd41-d0d8-4356-9323-5560cdeae144",
   "metadata": {},
   "source": [
    "For 0 level player, belief about opponent's parameters: alpha = beta = 0. Thus, the opponent will play D. So the best response will be to play D if $\\alpha$ is less than 1/4 and C otherwise. **(Checkpoint1: Assumption is that only beliefs about alpha and beta vary over levels not the strategy)**"
   ]
  },
  {
   "cell_type": "code",
   "execution_count": 9,
   "id": "2b539c19-40d6-459b-9e24-c83773e53acd",
   "metadata": {},
   "outputs": [],
   "source": [
    "# Grid parameters\n",
    "\n",
    "steps = 11 ##### Input number of steps here\n",
    "N = df.shape[0]\n",
    "\n",
    "alpha_range = np.linspace(0, 1, steps, endpoint=True)\n",
    "beta_range  = np.linspace(0, 1, steps, endpoint=True)\n",
    "col = []\n",
    "\n",
    "for alpha in alpha_range: \n",
    "    for beta in beta_range: \n",
    "        name = str(alpha), str(beta)\n",
    "        col  = col + [name]"
   ]
  },
  {
   "cell_type": "code",
   "execution_count": 10,
   "id": "b56c49e9-e6bd-43ec-88c5-93037fd5cc13",
   "metadata": {},
   "outputs": [],
   "source": [
    "# Create empty dataframes\n",
    "action = pd.DataFrame(index=df.index, columns=col)    # utility matrix\n",
    "error = pd.DataFrame(index=df.index, columns=col)     # error matrix"
   ]
  },
  {
   "cell_type": "code",
   "execution_count": 11,
   "id": "1857bba0-e6ce-418d-9467-923ddeb63c46",
   "metadata": {},
   "outputs": [],
   "source": [
    "# Utility Grid: D for alpha < 0.25 and C for alpha > 0.25 (no equality in 11 steps' case)\n",
    "\n",
    "for i in range(len(col)):\n",
    "    alpha = float(col[i][0]) # convert alpha (from column name) from string to float\n",
    "    if alpha < 0.25:\n",
    "        action.iloc[:, i] = 'D'\n",
    "    if alpha > 0.25:\n",
    "        action.iloc[:, i] = 'C'\n",
    "        \n",
    "#action.head()"
   ]
  },
  {
   "cell_type": "markdown",
   "id": "7cddc796-ccea-4be9-a6e7-713d73be8968",
   "metadata": {},
   "source": [
    "For now not dropping rows for actions with equal payoffs  **(Checkpoint2)**"
   ]
  },
  {
   "cell_type": "code",
   "execution_count": 12,
   "id": "1143c47d-898b-4bd7-adf7-b78240461293",
   "metadata": {},
   "outputs": [],
   "source": [
    "# Calculating error matrix\n",
    "\n",
    "for x in col:\n",
    "    error[x] = action[x]==df['action_player'] # this is done differently wrt previous codes because here we compare string vs string (eg C vs C), while before we compared numbers and subtraction is supported only for numeric values\n",
    "    \n",
    "error = 1 - error # Converting to ones and zeros from trues and falses\n",
    "error['player'] = df['player'] # Adding player column for easier future calculations\n",
    "#error.head()"
   ]
  },
  {
   "cell_type": "code",
   "execution_count": 13,
   "id": "fa2747d1-ff9b-4d28-aa62-8cf9fd8803e1",
   "metadata": {},
   "outputs": [],
   "source": [
    "# Calculate average error for each participant\n",
    "\n",
    "data = []\n",
    "\n",
    "for i in df['player'].unique():\n",
    "    sum_of_error = (error[error['player']==i].iloc[:,:-1]).sum() # summing over error rows where player == i and taking every column except the last (which is the name column) using iloc\n",
    "    number_of_trials = (df['player']==i).sum()\n",
    "    data = data + [sum_of_error/number_of_trials]\n",
    "    \n",
    "avg_error = pd.DataFrame(data=data)\n",
    "#avg_error.head()"
   ]
  },
  {
   "cell_type": "markdown",
   "id": "09271127-e6b9-4149-ad5a-29eea7c95c99",
   "metadata": {},
   "source": [
    "There was no need to square errors in this case because errors were not negative (only zeroes and ones)"
   ]
  },
  {
   "cell_type": "markdown",
   "id": "0558995a-84d4-4adb-bd5f-587303c99cc6",
   "metadata": {},
   "source": [
    "#### Finding minimum error\n",
    "\n",
    "Since in this case all error before $\\alpha = 0.25$ are same and all after are same. Effectively, there are only two useful buckets of alpha. So, subsequently using only two buckets instead of 11 to plot"
   ]
  },
  {
   "cell_type": "code",
   "execution_count": 14,
   "id": "54617dc7-336b-46c4-a96a-a9a9571303fa",
   "metadata": {},
   "outputs": [
    {
     "data": {
      "text/plain": [
       "0.78125"
      ]
     },
     "execution_count": 14,
     "metadata": {},
     "output_type": "execute_result"
    }
   ],
   "source": [
    "# Calculating fraction of players in the lower alpha bracket\n",
    "\n",
    "frac = sum(avg_error.iloc[:, 0]<=0.5)/number_of_participants # sum of rows of first column of avg_error which are less than 0.5 divided by no of participants\n",
    "frac # taking less than 0.5 because the other error is compliment of this (check avg_error df)"
   ]
  },
  {
   "cell_type": "markdown",
   "id": "5a130202-f311-41f3-bdf6-5fe25070851d",
   "metadata": {},
   "source": [
    "So 78% participants lie in the smaller alpha bracket"
   ]
  },
  {
   "cell_type": "code",
   "execution_count": 15,
   "id": "69d6db96-610c-4f0b-ab07-0ea13e0d13a7",
   "metadata": {},
   "outputs": [
    {
     "data": {
      "text/plain": [
       "Text(0.5, 0, 'Error')"
      ]
     },
     "execution_count": 15,
     "metadata": {},
     "output_type": "execute_result"
    },
    {
     "data": {
      "image/png": "[encoded data removed]",
      "text/plain": [
       "<Figure size 432x288 with 1 Axes>"
      ]
     },
     "metadata": {
      "needs_background": "light"
     },
     "output_type": "display_data"
    }
   ],
   "source": [
    "fig, ax = plt.subplots()\n",
    "\n",
    "pt1 = sns.histplot(x=avg_error.iloc[:, 0], ax=ax) # when alpha is in the lower bracket\n",
    "pt2 = sns.histplot(x=avg_error.iloc[:, -1], ax=ax, color='red') # in the higher bracket\n",
    "plt.title('Distribution of error')\n",
    "plt.xlabel('Error')"
   ]
  },
  {
   "cell_type": "markdown",
   "id": "59c9267e-1a7a-4785-94d2-d80503894627",
   "metadata": {},
   "source": [
    "# Level 1 PLayer"
   ]
  },
  {
   "cell_type": "markdown",
   "id": "669071c1-0657-4abb-8520-befedbe68351",
   "metadata": {},
   "source": [
    "Level 1 players assume that everyone has the same parameter values, ie $\\alpha_1=\\alpha_2=\\alpha$ and $\\beta_1=\\beta_2=\\beta$"
   ]
  },
  {
   "cell_type": "markdown",
   "id": "532251f1-1dc1-4d27-956d-0b245d4c124a",
   "metadata": {},
   "source": [
    "Payoff matrix:\n",
    "\n",
    "\n",
    "| Player\\Opponent | C        | D    |\n",
    "| ------          | ----- | ---- |\n",
    "| **C**           | $(3, 3)$     | $$(4\\alpha, 4(1-\\beta))$$ |\n",
    "| **D**           | $$(4(1-\\beta), 4\\alpha)$$     | $$(1, 1)$$ |"
   ]
  },
  {
   "cell_type": "markdown",
   "id": "67c6b810-c0bf-444d-97dd-5339ec002e2c",
   "metadata": {},
   "source": [
    "If player 2 plays C, best response of player 1 is"
   ]
  },
  {
   "cell_type": "markdown",
   "id": "25fc38b6-1b5b-4bff-b80a-6c2704482b79",
   "metadata": {},
   "source": [
    "$$\n",
    "    \\text{best response} = \n",
    "    \\begin{cases}\n",
    "        C & \\mbox{if } \\beta > 0.25\\\\\n",
    "        D & \\mbox{if } \\beta < 0.25\\\\\n",
    "        \\{C, D\\} & \\mbox{if } \\beta = 0.25\n",
    "    \\end{cases}\n",
    "$$"
   ]
  },
  {
   "cell_type": "markdown",
   "id": "cbf9fe62-4b56-4427-8926-bd951684a45e",
   "metadata": {},
   "source": [
    "And if player 2 plays D, best response of player 1 is"
   ]
  },
  {
   "cell_type": "markdown",
   "id": "f1dece73-a13d-4c85-9121-e53c0ad78592",
   "metadata": {},
   "source": [
    "$$\n",
    "    \\text{best response} = \n",
    "    \\begin{cases}\n",
    "        C & \\mbox{if } \\alpha > 0.25\\\\\n",
    "        D & \\mbox{if } \\alpha < 0.25\\\\\n",
    "        \\{C, D\\} & \\mbox{if } \\alpha = 0.25\n",
    "    \\end{cases}\n",
    "$$"
   ]
  },
  {
   "cell_type": "markdown",
   "id": "67fdff55-2309-45b1-aa98-cfa67573bbfc",
   "metadata": {},
   "source": [
    "Broadly there will be four types of players, low-$\\alpha$ low-$\\beta$ type, low-$\\alpha$ high-$\\beta$ type, high-$\\alpha$ low-$\\beta$ and high-$\\alpha$ high-$\\beta$ type. And each will have thier own equilibrium strategy."
   ]
  },
  {
   "cell_type": "markdown",
   "id": "ee9dbe73-57fb-4a4c-abae-a5d378f05aa5",
   "metadata": {},
   "source": [
    "1) For the low-low type, playing D is the dominant strategyand for the high-high type, dominant strategy is C\n",
    "2) For low-high and high-low types there are two pure strategy Nash equilibria and one mixed strategy.\n",
    "\n",
    "Assume that the players choose actions such that the equilibrium with higher payoff is achieved. **(Checkpoint3)**\n",
    "\n",
    "Now, for low-high type, the equilibria are (C, C) and (D, D), first gives the player a payoff of 3 and the second gives 1. So low-high type will play C. For high-low type, the equilibria are (C, D) and (D, C) which give respective payoffs, $4\\alpha$ and $4(1-\\beta)$. Thus, if $\\alpha+\\beta>1$ player will play C and the opponent will play D and vice versa in the other case.\n",
    "\n",
    "### (Add this alpha-beta strategy graph using latex later)"
   ]
  },
  {
   "cell_type": "code",
   "execution_count": 24,
   "id": "9821dbc9-10cd-4b17-bbdc-61195891d09f",
   "metadata": {},
   "outputs": [],
   "source": [
    "# Create empty dataframes\n",
    "action1 = pd.DataFrame(index=df.index, columns=col) # utility matrix\n",
    "error1 = pd.DataFrame(index=df.index, columns=col)     # error matrix"
   ]
  },
  {
   "cell_type": "code",
   "execution_count": 25,
   "id": "99ec0460-db03-4c6d-ba63-7e527acf0e23",
   "metadata": {},
   "outputs": [
    {
     "data": {
      "text/html": [
       "<div>\n",
       "<style scoped>\n",
       "    .dataframe tbody tr th:only-of-type {\n",
       "        vertical-align: middle;\n",
       "    }\n",
       "\n",
       "    .dataframe tbody tr th {\n",
       "        vertical-align: top;\n",
       "    }\n",
       "\n",
       "    .dataframe thead th {\n",
       "        text-align: right;\n",
       "    }\n",
       "</style>\n",
       "<table border=\"1\" class=\"dataframe\">\n",
       "  <thead>\n",
       "    <tr style=\"text-align: right;\">\n",
       "      <th></th>\n",
       "      <th>(0.0, 0.0)</th>\n",
       "      <th>(0.0, 0.1)</th>\n",
       "      <th>(0.0, 0.2)</th>\n",
       "      <th>(0.0, 0.30000000000000004)</th>\n",
       "      <th>(0.0, 0.4)</th>\n",
       "      <th>(0.0, 0.5)</th>\n",
       "      <th>(0.0, 0.6000000000000001)</th>\n",
       "      <th>(0.0, 0.7000000000000001)</th>\n",
       "      <th>(0.0, 0.8)</th>\n",
       "      <th>(0.0, 0.9)</th>\n",
       "      <th>...</th>\n",
       "      <th>(1.0, 0.1)</th>\n",
       "      <th>(1.0, 0.2)</th>\n",
       "      <th>(1.0, 0.30000000000000004)</th>\n",
       "      <th>(1.0, 0.4)</th>\n",
       "      <th>(1.0, 0.5)</th>\n",
       "      <th>(1.0, 0.6000000000000001)</th>\n",
       "      <th>(1.0, 0.7000000000000001)</th>\n",
       "      <th>(1.0, 0.8)</th>\n",
       "      <th>(1.0, 0.9)</th>\n",
       "      <th>(1.0, 1.0)</th>\n",
       "    </tr>\n",
       "  </thead>\n",
       "  <tbody>\n",
       "    <tr>\n",
       "      <th>0</th>\n",
       "      <td>D</td>\n",
       "      <td>D</td>\n",
       "      <td>D</td>\n",
       "      <td>C</td>\n",
       "      <td>C</td>\n",
       "      <td>C</td>\n",
       "      <td>C</td>\n",
       "      <td>C</td>\n",
       "      <td>C</td>\n",
       "      <td>C</td>\n",
       "      <td>...</td>\n",
       "      <td>C</td>\n",
       "      <td>C</td>\n",
       "      <td>C</td>\n",
       "      <td>C</td>\n",
       "      <td>C</td>\n",
       "      <td>C</td>\n",
       "      <td>C</td>\n",
       "      <td>C</td>\n",
       "      <td>C</td>\n",
       "      <td>C</td>\n",
       "    </tr>\n",
       "    <tr>\n",
       "      <th>1</th>\n",
       "      <td>D</td>\n",
       "      <td>D</td>\n",
       "      <td>D</td>\n",
       "      <td>C</td>\n",
       "      <td>C</td>\n",
       "      <td>C</td>\n",
       "      <td>C</td>\n",
       "      <td>C</td>\n",
       "      <td>C</td>\n",
       "      <td>C</td>\n",
       "      <td>...</td>\n",
       "      <td>C</td>\n",
       "      <td>C</td>\n",
       "      <td>C</td>\n",
       "      <td>C</td>\n",
       "      <td>C</td>\n",
       "      <td>C</td>\n",
       "      <td>C</td>\n",
       "      <td>C</td>\n",
       "      <td>C</td>\n",
       "      <td>C</td>\n",
       "    </tr>\n",
       "    <tr>\n",
       "      <th>2</th>\n",
       "      <td>D</td>\n",
       "      <td>D</td>\n",
       "      <td>D</td>\n",
       "      <td>C</td>\n",
       "      <td>C</td>\n",
       "      <td>C</td>\n",
       "      <td>C</td>\n",
       "      <td>C</td>\n",
       "      <td>C</td>\n",
       "      <td>C</td>\n",
       "      <td>...</td>\n",
       "      <td>C</td>\n",
       "      <td>C</td>\n",
       "      <td>C</td>\n",
       "      <td>C</td>\n",
       "      <td>C</td>\n",
       "      <td>C</td>\n",
       "      <td>C</td>\n",
       "      <td>C</td>\n",
       "      <td>C</td>\n",
       "      <td>C</td>\n",
       "    </tr>\n",
       "    <tr>\n",
       "      <th>3</th>\n",
       "      <td>D</td>\n",
       "      <td>D</td>\n",
       "      <td>D</td>\n",
       "      <td>C</td>\n",
       "      <td>C</td>\n",
       "      <td>C</td>\n",
       "      <td>C</td>\n",
       "      <td>C</td>\n",
       "      <td>C</td>\n",
       "      <td>C</td>\n",
       "      <td>...</td>\n",
       "      <td>C</td>\n",
       "      <td>C</td>\n",
       "      <td>C</td>\n",
       "      <td>C</td>\n",
       "      <td>C</td>\n",
       "      <td>C</td>\n",
       "      <td>C</td>\n",
       "      <td>C</td>\n",
       "      <td>C</td>\n",
       "      <td>C</td>\n",
       "    </tr>\n",
       "    <tr>\n",
       "      <th>4</th>\n",
       "      <td>D</td>\n",
       "      <td>D</td>\n",
       "      <td>D</td>\n",
       "      <td>C</td>\n",
       "      <td>C</td>\n",
       "      <td>C</td>\n",
       "      <td>C</td>\n",
       "      <td>C</td>\n",
       "      <td>C</td>\n",
       "      <td>C</td>\n",
       "      <td>...</td>\n",
       "      <td>C</td>\n",
       "      <td>C</td>\n",
       "      <td>C</td>\n",
       "      <td>C</td>\n",
       "      <td>C</td>\n",
       "      <td>C</td>\n",
       "      <td>C</td>\n",
       "      <td>C</td>\n",
       "      <td>C</td>\n",
       "      <td>C</td>\n",
       "    </tr>\n",
       "  </tbody>\n",
       "</table>\n",
       "<p>5 rows × 121 columns</p>\n",
       "</div>"
      ],
      "text/plain": [
       "  (0.0, 0.0) (0.0, 0.1) (0.0, 0.2) (0.0, 0.30000000000000004) (0.0, 0.4)  \\\n",
       "0          D          D          D                          C          C   \n",
       "1          D          D          D                          C          C   \n",
       "2          D          D          D                          C          C   \n",
       "3          D          D          D                          C          C   \n",
       "4          D          D          D                          C          C   \n",
       "\n",
       "  (0.0, 0.5) (0.0, 0.6000000000000001) (0.0, 0.7000000000000001) (0.0, 0.8)  \\\n",
       "0          C                         C                         C          C   \n",
       "1          C                         C                         C          C   \n",
       "2          C                         C                         C          C   \n",
       "3          C                         C                         C          C   \n",
       "4          C                         C                         C          C   \n",
       "\n",
       "  (0.0, 0.9)  ... (1.0, 0.1) (1.0, 0.2) (1.0, 0.30000000000000004) (1.0, 0.4)  \\\n",
       "0          C  ...          C          C                          C          C   \n",
       "1          C  ...          C          C                          C          C   \n",
       "2          C  ...          C          C                          C          C   \n",
       "3          C  ...          C          C                          C          C   \n",
       "4          C  ...          C          C                          C          C   \n",
       "\n",
       "  (1.0, 0.5) (1.0, 0.6000000000000001) (1.0, 0.7000000000000001) (1.0, 0.8)  \\\n",
       "0          C                         C                         C          C   \n",
       "1          C                         C                         C          C   \n",
       "2          C                         C                         C          C   \n",
       "3          C                         C                         C          C   \n",
       "4          C                         C                         C          C   \n",
       "\n",
       "  (1.0, 0.9) (1.0, 1.0)  \n",
       "0          C          C  \n",
       "1          C          C  \n",
       "2          C          C  \n",
       "3          C          C  \n",
       "4          C          C  \n",
       "\n",
       "[5 rows x 121 columns]"
      ]
     },
     "execution_count": 25,
     "metadata": {},
     "output_type": "execute_result"
    }
   ],
   "source": [
    "# Utility Grid: C for beta > 0.25 and C for beta < 0.25 except when alpha > 0.75 (no equality in 11 steps' case)\n",
    "\n",
    "for i in range(len(col)):\n",
    "    beta = float(col[i][1]) # convert beta (from column name) from string to float\n",
    "    if beta > 0.25:\n",
    "        action1.iloc[:, i] = 'C'\n",
    "    if beta < 0.25:\n",
    "        alpha = float(col[i][0])\n",
    "        if alpha > 0.75:\n",
    "            action1.iloc[:, i] = 'C'\n",
    "        if alpha < 0.75:\n",
    "            action1.iloc[:, i] = 'D'\n",
    "        \n",
    "#action1.head()"
   ]
  },
  {
   "cell_type": "code",
   "execution_count": 26,
   "id": "de4a655e-2364-4158-92dd-8c7525b2aae4",
   "metadata": {},
   "outputs": [
    {
     "data": {
      "text/html": [
       "<div>\n",
       "<style scoped>\n",
       "    .dataframe tbody tr th:only-of-type {\n",
       "        vertical-align: middle;\n",
       "    }\n",
       "\n",
       "    .dataframe tbody tr th {\n",
       "        vertical-align: top;\n",
       "    }\n",
       "\n",
       "    .dataframe thead th {\n",
       "        text-align: right;\n",
       "    }\n",
       "</style>\n",
       "<table border=\"1\" class=\"dataframe\">\n",
       "  <thead>\n",
       "    <tr style=\"text-align: right;\">\n",
       "      <th></th>\n",
       "      <th>(0.0, 0.0)</th>\n",
       "      <th>(0.0, 0.1)</th>\n",
       "      <th>(0.0, 0.2)</th>\n",
       "      <th>(0.0, 0.30000000000000004)</th>\n",
       "      <th>(0.0, 0.4)</th>\n",
       "      <th>(0.0, 0.5)</th>\n",
       "      <th>(0.0, 0.6000000000000001)</th>\n",
       "      <th>(0.0, 0.7000000000000001)</th>\n",
       "      <th>(0.0, 0.8)</th>\n",
       "      <th>(0.0, 0.9)</th>\n",
       "      <th>...</th>\n",
       "      <th>(1.0, 0.2)</th>\n",
       "      <th>(1.0, 0.30000000000000004)</th>\n",
       "      <th>(1.0, 0.4)</th>\n",
       "      <th>(1.0, 0.5)</th>\n",
       "      <th>(1.0, 0.6000000000000001)</th>\n",
       "      <th>(1.0, 0.7000000000000001)</th>\n",
       "      <th>(1.0, 0.8)</th>\n",
       "      <th>(1.0, 0.9)</th>\n",
       "      <th>(1.0, 1.0)</th>\n",
       "      <th>player</th>\n",
       "    </tr>\n",
       "  </thead>\n",
       "  <tbody>\n",
       "    <tr>\n",
       "      <th>0</th>\n",
       "      <td>1</td>\n",
       "      <td>1</td>\n",
       "      <td>1</td>\n",
       "      <td>0</td>\n",
       "      <td>0</td>\n",
       "      <td>0</td>\n",
       "      <td>0</td>\n",
       "      <td>0</td>\n",
       "      <td>0</td>\n",
       "      <td>0</td>\n",
       "      <td>...</td>\n",
       "      <td>0</td>\n",
       "      <td>0</td>\n",
       "      <td>0</td>\n",
       "      <td>0</td>\n",
       "      <td>0</td>\n",
       "      <td>0</td>\n",
       "      <td>0</td>\n",
       "      <td>0</td>\n",
       "      <td>0</td>\n",
       "      <td>s11n9usuario1</td>\n",
       "    </tr>\n",
       "    <tr>\n",
       "      <th>1</th>\n",
       "      <td>1</td>\n",
       "      <td>1</td>\n",
       "      <td>1</td>\n",
       "      <td>0</td>\n",
       "      <td>0</td>\n",
       "      <td>0</td>\n",
       "      <td>0</td>\n",
       "      <td>0</td>\n",
       "      <td>0</td>\n",
       "      <td>0</td>\n",
       "      <td>...</td>\n",
       "      <td>0</td>\n",
       "      <td>0</td>\n",
       "      <td>0</td>\n",
       "      <td>0</td>\n",
       "      <td>0</td>\n",
       "      <td>0</td>\n",
       "      <td>0</td>\n",
       "      <td>0</td>\n",
       "      <td>0</td>\n",
       "      <td>s11n9usuario1</td>\n",
       "    </tr>\n",
       "    <tr>\n",
       "      <th>2</th>\n",
       "      <td>1</td>\n",
       "      <td>1</td>\n",
       "      <td>1</td>\n",
       "      <td>0</td>\n",
       "      <td>0</td>\n",
       "      <td>0</td>\n",
       "      <td>0</td>\n",
       "      <td>0</td>\n",
       "      <td>0</td>\n",
       "      <td>0</td>\n",
       "      <td>...</td>\n",
       "      <td>0</td>\n",
       "      <td>0</td>\n",
       "      <td>0</td>\n",
       "      <td>0</td>\n",
       "      <td>0</td>\n",
       "      <td>0</td>\n",
       "      <td>0</td>\n",
       "      <td>0</td>\n",
       "      <td>0</td>\n",
       "      <td>s11n9usuario1</td>\n",
       "    </tr>\n",
       "    <tr>\n",
       "      <th>3</th>\n",
       "      <td>1</td>\n",
       "      <td>1</td>\n",
       "      <td>1</td>\n",
       "      <td>0</td>\n",
       "      <td>0</td>\n",
       "      <td>0</td>\n",
       "      <td>0</td>\n",
       "      <td>0</td>\n",
       "      <td>0</td>\n",
       "      <td>0</td>\n",
       "      <td>...</td>\n",
       "      <td>0</td>\n",
       "      <td>0</td>\n",
       "      <td>0</td>\n",
       "      <td>0</td>\n",
       "      <td>0</td>\n",
       "      <td>0</td>\n",
       "      <td>0</td>\n",
       "      <td>0</td>\n",
       "      <td>0</td>\n",
       "      <td>s11n9usuario1</td>\n",
       "    </tr>\n",
       "    <tr>\n",
       "      <th>4</th>\n",
       "      <td>1</td>\n",
       "      <td>1</td>\n",
       "      <td>1</td>\n",
       "      <td>0</td>\n",
       "      <td>0</td>\n",
       "      <td>0</td>\n",
       "      <td>0</td>\n",
       "      <td>0</td>\n",
       "      <td>0</td>\n",
       "      <td>0</td>\n",
       "      <td>...</td>\n",
       "      <td>0</td>\n",
       "      <td>0</td>\n",
       "      <td>0</td>\n",
       "      <td>0</td>\n",
       "      <td>0</td>\n",
       "      <td>0</td>\n",
       "      <td>0</td>\n",
       "      <td>0</td>\n",
       "      <td>0</td>\n",
       "      <td>s11n9usuario1</td>\n",
       "    </tr>\n",
       "  </tbody>\n",
       "</table>\n",
       "<p>5 rows × 122 columns</p>\n",
       "</div>"
      ],
      "text/plain": [
       "   (0.0, 0.0)  (0.0, 0.1)  (0.0, 0.2)  (0.0, 0.30000000000000004)  (0.0, 0.4)  \\\n",
       "0           1           1           1                           0           0   \n",
       "1           1           1           1                           0           0   \n",
       "2           1           1           1                           0           0   \n",
       "3           1           1           1                           0           0   \n",
       "4           1           1           1                           0           0   \n",
       "\n",
       "   (0.0, 0.5)  (0.0, 0.6000000000000001)  (0.0, 0.7000000000000001)  \\\n",
       "0           0                          0                          0   \n",
       "1           0                          0                          0   \n",
       "2           0                          0                          0   \n",
       "3           0                          0                          0   \n",
       "4           0                          0                          0   \n",
       "\n",
       "   (0.0, 0.8)  (0.0, 0.9)  ...  (1.0, 0.2)  (1.0, 0.30000000000000004)  \\\n",
       "0           0           0  ...           0                           0   \n",
       "1           0           0  ...           0                           0   \n",
       "2           0           0  ...           0                           0   \n",
       "3           0           0  ...           0                           0   \n",
       "4           0           0  ...           0                           0   \n",
       "\n",
       "   (1.0, 0.4)  (1.0, 0.5)  (1.0, 0.6000000000000001)  \\\n",
       "0           0           0                          0   \n",
       "1           0           0                          0   \n",
       "2           0           0                          0   \n",
       "3           0           0                          0   \n",
       "4           0           0                          0   \n",
       "\n",
       "   (1.0, 0.7000000000000001)  (1.0, 0.8)  (1.0, 0.9)  (1.0, 1.0)  \\\n",
       "0                          0           0           0           0   \n",
       "1                          0           0           0           0   \n",
       "2                          0           0           0           0   \n",
       "3                          0           0           0           0   \n",
       "4                          0           0           0           0   \n",
       "\n",
       "          player  \n",
       "0  s11n9usuario1  \n",
       "1  s11n9usuario1  \n",
       "2  s11n9usuario1  \n",
       "3  s11n9usuario1  \n",
       "4  s11n9usuario1  \n",
       "\n",
       "[5 rows x 122 columns]"
      ]
     },
     "execution_count": 26,
     "metadata": {},
     "output_type": "execute_result"
    }
   ],
   "source": [
    "# Calculating error matrix\n",
    "\n",
    "for x in col:\n",
    "    error1[x] = action1[x]==df['action_player']\n",
    "    \n",
    "error1 = 1 - error1 # Converting to ones and zeros from trues and falses\n",
    "error1['player'] = df['player'] # Adding player column for easier future calculations\n",
    "\n",
    "#error1.head()"
   ]
  },
  {
   "cell_type": "code",
   "execution_count": 27,
   "id": "4f3709fc-d627-4303-9884-7e79c48a4ae9",
   "metadata": {},
   "outputs": [
    {
     "data": {
      "text/html": [
       "<div>\n",
       "<style scoped>\n",
       "    .dataframe tbody tr th:only-of-type {\n",
       "        vertical-align: middle;\n",
       "    }\n",
       "\n",
       "    .dataframe tbody tr th {\n",
       "        vertical-align: top;\n",
       "    }\n",
       "\n",
       "    .dataframe thead th {\n",
       "        text-align: right;\n",
       "    }\n",
       "</style>\n",
       "<table border=\"1\" class=\"dataframe\">\n",
       "  <thead>\n",
       "    <tr style=\"text-align: right;\">\n",
       "      <th></th>\n",
       "      <th>(0.0, 0.0)</th>\n",
       "      <th>(0.0, 0.1)</th>\n",
       "      <th>(0.0, 0.2)</th>\n",
       "      <th>(0.0, 0.30000000000000004)</th>\n",
       "      <th>(0.0, 0.4)</th>\n",
       "      <th>(0.0, 0.5)</th>\n",
       "      <th>(0.0, 0.6000000000000001)</th>\n",
       "      <th>(0.0, 0.7000000000000001)</th>\n",
       "      <th>(0.0, 0.8)</th>\n",
       "      <th>(0.0, 0.9)</th>\n",
       "      <th>...</th>\n",
       "      <th>(1.0, 0.1)</th>\n",
       "      <th>(1.0, 0.2)</th>\n",
       "      <th>(1.0, 0.30000000000000004)</th>\n",
       "      <th>(1.0, 0.4)</th>\n",
       "      <th>(1.0, 0.5)</th>\n",
       "      <th>(1.0, 0.6000000000000001)</th>\n",
       "      <th>(1.0, 0.7000000000000001)</th>\n",
       "      <th>(1.0, 0.8)</th>\n",
       "      <th>(1.0, 0.9)</th>\n",
       "      <th>(1.0, 1.0)</th>\n",
       "    </tr>\n",
       "  </thead>\n",
       "  <tbody>\n",
       "    <tr>\n",
       "      <th>0</th>\n",
       "      <td>0.25</td>\n",
       "      <td>0.25</td>\n",
       "      <td>0.25</td>\n",
       "      <td>0.75</td>\n",
       "      <td>0.75</td>\n",
       "      <td>0.75</td>\n",
       "      <td>0.75</td>\n",
       "      <td>0.75</td>\n",
       "      <td>0.75</td>\n",
       "      <td>0.75</td>\n",
       "      <td>...</td>\n",
       "      <td>0.75</td>\n",
       "      <td>0.75</td>\n",
       "      <td>0.75</td>\n",
       "      <td>0.75</td>\n",
       "      <td>0.75</td>\n",
       "      <td>0.75</td>\n",
       "      <td>0.75</td>\n",
       "      <td>0.75</td>\n",
       "      <td>0.75</td>\n",
       "      <td>0.75</td>\n",
       "    </tr>\n",
       "    <tr>\n",
       "      <th>1</th>\n",
       "      <td>0.05</td>\n",
       "      <td>0.05</td>\n",
       "      <td>0.05</td>\n",
       "      <td>0.95</td>\n",
       "      <td>0.95</td>\n",
       "      <td>0.95</td>\n",
       "      <td>0.95</td>\n",
       "      <td>0.95</td>\n",
       "      <td>0.95</td>\n",
       "      <td>0.95</td>\n",
       "      <td>...</td>\n",
       "      <td>0.95</td>\n",
       "      <td>0.95</td>\n",
       "      <td>0.95</td>\n",
       "      <td>0.95</td>\n",
       "      <td>0.95</td>\n",
       "      <td>0.95</td>\n",
       "      <td>0.95</td>\n",
       "      <td>0.95</td>\n",
       "      <td>0.95</td>\n",
       "      <td>0.95</td>\n",
       "    </tr>\n",
       "    <tr>\n",
       "      <th>2</th>\n",
       "      <td>0.28</td>\n",
       "      <td>0.28</td>\n",
       "      <td>0.28</td>\n",
       "      <td>0.72</td>\n",
       "      <td>0.72</td>\n",
       "      <td>0.72</td>\n",
       "      <td>0.72</td>\n",
       "      <td>0.72</td>\n",
       "      <td>0.72</td>\n",
       "      <td>0.72</td>\n",
       "      <td>...</td>\n",
       "      <td>0.72</td>\n",
       "      <td>0.72</td>\n",
       "      <td>0.72</td>\n",
       "      <td>0.72</td>\n",
       "      <td>0.72</td>\n",
       "      <td>0.72</td>\n",
       "      <td>0.72</td>\n",
       "      <td>0.72</td>\n",
       "      <td>0.72</td>\n",
       "      <td>0.72</td>\n",
       "    </tr>\n",
       "    <tr>\n",
       "      <th>3</th>\n",
       "      <td>0.31</td>\n",
       "      <td>0.31</td>\n",
       "      <td>0.31</td>\n",
       "      <td>0.69</td>\n",
       "      <td>0.69</td>\n",
       "      <td>0.69</td>\n",
       "      <td>0.69</td>\n",
       "      <td>0.69</td>\n",
       "      <td>0.69</td>\n",
       "      <td>0.69</td>\n",
       "      <td>...</td>\n",
       "      <td>0.69</td>\n",
       "      <td>0.69</td>\n",
       "      <td>0.69</td>\n",
       "      <td>0.69</td>\n",
       "      <td>0.69</td>\n",
       "      <td>0.69</td>\n",
       "      <td>0.69</td>\n",
       "      <td>0.69</td>\n",
       "      <td>0.69</td>\n",
       "      <td>0.69</td>\n",
       "    </tr>\n",
       "    <tr>\n",
       "      <th>4</th>\n",
       "      <td>0.52</td>\n",
       "      <td>0.52</td>\n",
       "      <td>0.52</td>\n",
       "      <td>0.48</td>\n",
       "      <td>0.48</td>\n",
       "      <td>0.48</td>\n",
       "      <td>0.48</td>\n",
       "      <td>0.48</td>\n",
       "      <td>0.48</td>\n",
       "      <td>0.48</td>\n",
       "      <td>...</td>\n",
       "      <td>0.48</td>\n",
       "      <td>0.48</td>\n",
       "      <td>0.48</td>\n",
       "      <td>0.48</td>\n",
       "      <td>0.48</td>\n",
       "      <td>0.48</td>\n",
       "      <td>0.48</td>\n",
       "      <td>0.48</td>\n",
       "      <td>0.48</td>\n",
       "      <td>0.48</td>\n",
       "    </tr>\n",
       "  </tbody>\n",
       "</table>\n",
       "<p>5 rows × 121 columns</p>\n",
       "</div>"
      ],
      "text/plain": [
       "   (0.0, 0.0)  (0.0, 0.1)  (0.0, 0.2)  (0.0, 0.30000000000000004)  (0.0, 0.4)  \\\n",
       "0        0.25        0.25        0.25                        0.75        0.75   \n",
       "1        0.05        0.05        0.05                        0.95        0.95   \n",
       "2        0.28        0.28        0.28                        0.72        0.72   \n",
       "3        0.31        0.31        0.31                        0.69        0.69   \n",
       "4        0.52        0.52        0.52                        0.48        0.48   \n",
       "\n",
       "   (0.0, 0.5)  (0.0, 0.6000000000000001)  (0.0, 0.7000000000000001)  \\\n",
       "0        0.75                       0.75                       0.75   \n",
       "1        0.95                       0.95                       0.95   \n",
       "2        0.72                       0.72                       0.72   \n",
       "3        0.69                       0.69                       0.69   \n",
       "4        0.48                       0.48                       0.48   \n",
       "\n",
       "   (0.0, 0.8)  (0.0, 0.9)  ...  (1.0, 0.1)  (1.0, 0.2)  \\\n",
       "0        0.75        0.75  ...        0.75        0.75   \n",
       "1        0.95        0.95  ...        0.95        0.95   \n",
       "2        0.72        0.72  ...        0.72        0.72   \n",
       "3        0.69        0.69  ...        0.69        0.69   \n",
       "4        0.48        0.48  ...        0.48        0.48   \n",
       "\n",
       "   (1.0, 0.30000000000000004)  (1.0, 0.4)  (1.0, 0.5)  \\\n",
       "0                        0.75        0.75        0.75   \n",
       "1                        0.95        0.95        0.95   \n",
       "2                        0.72        0.72        0.72   \n",
       "3                        0.69        0.69        0.69   \n",
       "4                        0.48        0.48        0.48   \n",
       "\n",
       "   (1.0, 0.6000000000000001)  (1.0, 0.7000000000000001)  (1.0, 0.8)  \\\n",
       "0                       0.75                       0.75        0.75   \n",
       "1                       0.95                       0.95        0.95   \n",
       "2                       0.72                       0.72        0.72   \n",
       "3                       0.69                       0.69        0.69   \n",
       "4                       0.48                       0.48        0.48   \n",
       "\n",
       "   (1.0, 0.9)  (1.0, 1.0)  \n",
       "0        0.75        0.75  \n",
       "1        0.95        0.95  \n",
       "2        0.72        0.72  \n",
       "3        0.69        0.69  \n",
       "4        0.48        0.48  \n",
       "\n",
       "[5 rows x 121 columns]"
      ]
     },
     "execution_count": 27,
     "metadata": {},
     "output_type": "execute_result"
    }
   ],
   "source": [
    "# Calculate average error for each participant\n",
    "\n",
    "data = []\n",
    "\n",
    "for i in df['player'].unique():\n",
    "    sum_of_error = (error1[error1['player']==i].iloc[:,:-1]).sum() # summing over error rows where player == i and taking every column except the last (which is the name column) using iloc\n",
    "    number_of_trials = (df['player']==i).sum()\n",
    "    data = data + [sum_of_error/number_of_trials]\n",
    "    \n",
    "avg_error1 = pd.DataFrame(data=data)\n",
    "\n",
    "#avg_error1.head()"
   ]
  },
  {
   "cell_type": "code",
   "execution_count": 44,
   "id": "02df65cb-f380-4818-81d6-c25ac90229fd",
   "metadata": {},
   "outputs": [
    {
     "data": {
      "text/plain": [
       "('0.0', '0.30000000000000004')"
      ]
     },
     "execution_count": 44,
     "metadata": {},
     "output_type": "execute_result"
    }
   ],
   "source": [
    "# Minimise error\n",
    "\n",
    "min_error1 = avg_error1.idxmin(axis=1) # gives the first pair where minimum error occurs\n",
    "#min_error1"
   ]
  },
  {
   "cell_type": "code",
   "execution_count": 53,
   "id": "5e0117c3-8a2f-4f8c-8ec9-9e943c5bdc85",
   "metadata": {},
   "outputs": [
    {
     "data": {
      "text/plain": [
       "Text(0.5, 1.0, 'Alpha')"
      ]
     },
     "execution_count": 53,
     "metadata": {},
     "output_type": "execute_result"
    },
    {
     "data": {
      "image/png": "[encoded data removed]",
      "text/plain": [
       "<Figure size 432x288 with 1 Axes>"
      ]
     },
     "metadata": {
      "needs_background": "light"
     },
     "output_type": "display_data"
    }
   ],
   "source": [
    "# Creating list of alphas for each subject\n",
    "obs_alpha = []\n",
    "\n",
    "for x in min_error1:\n",
    "    obs_alpha = obs_alpha + [x[0]]\n",
    "    \n",
    "obs_alpha = [float(x) for x in obs_alpha]\n",
    "\n",
    "\n",
    "# Plotting alpha\n",
    "plt.hist(obs_alpha, bins=11)\n",
    "plt.title('Alpha')"
   ]
  },
  {
   "cell_type": "code",
   "execution_count": 56,
   "id": "a0a3ab93-11f0-4980-a2d5-fdc9d51c6db6",
   "metadata": {},
   "outputs": [
    {
     "data": {
      "text/plain": [
       "Text(0.5, 1.0, 'Beta')"
      ]
     },
     "execution_count": 56,
     "metadata": {},
     "output_type": "execute_result"
    },
    {
     "data": {
      "image/png": "[encoded data removed]",
      "text/plain": [
       "<Figure size 432x288 with 1 Axes>"
      ]
     },
     "metadata": {
      "needs_background": "light"
     },
     "output_type": "display_data"
    }
   ],
   "source": [
    "# Creating list of betas for each subject\n",
    "obs_beta = []\n",
    "\n",
    "for x in min_error1:\n",
    "    obs_beta = obs_beta + [x[1]]\n",
    "    \n",
    "obs_beta = [float(x) for x in obs_beta]\n",
    "\n",
    "\n",
    "# PLotting beta\n",
    "plt.hist(obs_beta, bins=11)\n",
    "plt.title('Beta')"
   ]
  },
  {
   "cell_type": "code",
   "execution_count": null,
   "id": "d3d79617-5de1-4793-9c57-0c87f95814aa",
   "metadata": {},
   "outputs": [],
   "source": []
  },
  {
   "cell_type": "code",
   "execution_count": 52,
   "id": "cbf0a8e6-d43e-464b-91a3-3ad04f6c4ba6",
   "metadata": {},
   "outputs": [
    {
     "data": {
      "text/plain": [
       "(0.0, 0.0)                     True\n",
       "(0.0, 0.1)                     True\n",
       "(0.0, 0.2)                     True\n",
       "(0.0, 0.30000000000000004)    False\n",
       "(0.0, 0.4)                    False\n",
       "                              ...  \n",
       "(1.0, 0.6000000000000001)     False\n",
       "(1.0, 0.7000000000000001)     False\n",
       "(1.0, 0.8)                    False\n",
       "(1.0, 0.9)                    False\n",
       "(1.0, 1.0)                    False\n",
       "Name: 0, Length: 121, dtype: bool"
      ]
     },
     "execution_count": 52,
     "metadata": {},
     "output_type": "execute_result"
    }
   ],
   "source": [
    "avg_error1[min_error1[0]][0]==avg_error1.iloc[0, :]"
   ]
  },
  {
   "cell_type": "markdown",
   "id": "d6e34227-30a4-4088-9a16-720e245d5bf1",
   "metadata": {},
   "source": [
    "Plot alpha vs beta (heatmap?)"
   ]
  },
  {
   "cell_type": "code",
   "execution_count": null,
   "id": "c120a8fb-d2aa-4ca6-a523-f4871502b02d",
   "metadata": {},
   "outputs": [],
   "source": []
  }
 ],
 "metadata": {
  "kernelspec": {
   "display_name": "Python 3",
   "language": "python",
   "name": "python3"
  },
  "language_info": {
   "codemirror_mode": {
    "name": "ipython",
    "version": 3
   },
   "file_extension": ".py",
   "mimetype": "text/x-python",
   "name": "python",
   "nbconvert_exporter": "python",
   "pygments_lexer": "ipython3",
   "version": "3.8.8"
  }
 },
 "nbformat": 4,
 "nbformat_minor": 5
}
