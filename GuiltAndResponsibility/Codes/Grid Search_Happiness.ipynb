{
 "cells": [
  {
   "cell_type": "code",
   "execution_count": 1,
   "id": "335e6997",
   "metadata": {},
   "outputs": [],
   "source": [
    "# install packages if imports dont work\n",
    "\n",
    "import numpy as np\n",
    "import pandas as pd\n",
    "import seaborn as sns\n",
    "import os\n",
    "from numpy.polynomial import polynomial as P # for continuous dependent variable\n",
    "from matplotlib import pyplot as plt"
   ]
  },
  {
   "cell_type": "code",
   "execution_count": 2,
   "id": "34c097a4-5087-400d-b543-514267219f19",
   "metadata": {},
   "outputs": [
    {
     "name": "stdout",
     "output_type": "stream",
     "text": [
      "Before=C:\\Users\\1412r\\sciebo\\GuiltAndResponsibility\\Codes\n",
      "After=C:\\Users\\1412r\\sciebo\\GuiltAndResponsibility\n"
     ]
    }
   ],
   "source": [
    "# Setting working directory\n",
    "\n",
    "print(f'Before={os.getcwd()}') # Set wd to \\sciebo\\GuiltAndResponsibility\n",
    "#os.chdir('C:\\\\Users\\\\1412r\\\\sciebo\\\\GuiltAndResponsibility')\n",
    "#print(f'After={os.getcwd()}')"
   ]
  },
  {
   "cell_type": "code",
   "execution_count": 3,
   "id": "e44626f9",
   "metadata": {},
   "outputs": [
    {
     "data": {
      "text/html": [
       "<div>\n",
       "<style scoped>\n",
       "    .dataframe tbody tr th:only-of-type {\n",
       "        vertical-align: middle;\n",
       "    }\n",
       "\n",
       "    .dataframe tbody tr th {\n",
       "        vertical-align: top;\n",
       "    }\n",
       "\n",
       "    .dataframe thead th {\n",
       "        text-align: right;\n",
       "    }\n",
       "</style>\n",
       "<table border=\"1\" class=\"dataframe\">\n",
       "  <thead>\n",
       "    <tr style=\"text-align: right;\">\n",
       "      <th></th>\n",
       "      <th>happiness</th>\n",
       "      <th>rewardSubj</th>\n",
       "      <th>rewardPart</th>\n",
       "      <th>subject</th>\n",
       "    </tr>\n",
       "  </thead>\n",
       "  <tbody>\n",
       "    <tr>\n",
       "      <th>0</th>\n",
       "      <td>0.536638</td>\n",
       "      <td>0.40</td>\n",
       "      <td>0.40</td>\n",
       "      <td>1</td>\n",
       "    </tr>\n",
       "    <tr>\n",
       "      <th>1</th>\n",
       "      <td>-1.404967</td>\n",
       "      <td>-0.32</td>\n",
       "      <td>0.00</td>\n",
       "      <td>1</td>\n",
       "    </tr>\n",
       "    <tr>\n",
       "      <th>2</th>\n",
       "      <td>1.507441</td>\n",
       "      <td>0.79</td>\n",
       "      <td>0.79</td>\n",
       "      <td>1</td>\n",
       "    </tr>\n",
       "    <tr>\n",
       "      <th>3</th>\n",
       "      <td>-1.081366</td>\n",
       "      <td>0.00</td>\n",
       "      <td>0.00</td>\n",
       "      <td>1</td>\n",
       "    </tr>\n",
       "    <tr>\n",
       "      <th>4</th>\n",
       "      <td>1.669241</td>\n",
       "      <td>-0.48</td>\n",
       "      <td>-0.48</td>\n",
       "      <td>1</td>\n",
       "    </tr>\n",
       "  </tbody>\n",
       "</table>\n",
       "</div>"
      ],
      "text/plain": [
       "   happiness  rewardSubj  rewardPart  subject\n",
       "0   0.536638        0.40        0.40        1\n",
       "1  -1.404967       -0.32        0.00        1\n",
       "2   1.507441        0.79        0.79        1\n",
       "3  -1.081366        0.00        0.00        1\n",
       "4   1.669241       -0.48       -0.48        1"
      ]
     },
     "execution_count": 3,
     "metadata": {},
     "output_type": "execute_result"
    }
   ],
   "source": [
    "# Get csv data\n",
    "\n",
    "path = 'Data/Behav - Happiness_singleTrialData_socialRiskyChoicesOnly.csv'\n",
    "df = pd.read_csv(path)\n",
    "\n",
    "# Housekeeping\n",
    "drop_cols = ['cond', 'Vsafe', 'riskyHi', 'riskyLo', 'choseRisky', 'subjectWon',  'partnerWon', 'EV', 'ineq', 'ineqAdv', 'ineqDisadv', 'sRPE', 'pRPE', 'subjDecided', 'socialTrial']\n",
    "df.drop(columns=drop_cols, inplace=True)\n",
    "df.head()"
   ]
  },
  {
   "cell_type": "code",
   "execution_count": 4,
   "id": "8231006f",
   "metadata": {},
   "outputs": [
    {
     "name": "stdout",
     "output_type": "stream",
     "text": [
      "The shape of df is (1216, 4)\n",
      "\n",
      "         happiness  rewardSubj  rewardPart\n",
      "subject                                   \n",
      "1               43          43          43\n",
      "2               36          36          36\n",
      "3               40          40          40\n",
      "4               19          19          19\n",
      "5               33          33          33\n",
      "6               30          30          30\n",
      "7               31          31          31\n",
      "8               24          24          24\n",
      "9               28          28          28\n",
      "10              31          31          31\n",
      "11              28          28          28\n",
      "12              30          30          30\n",
      "13              36          36          36\n",
      "14              26          26          26\n",
      "15              25          25          25\n",
      "16              25          25          25\n",
      "17              21          21          21\n",
      "18              23          23          23\n",
      "19              37          37          37\n",
      "20              29          29          29\n",
      "21              30          30          30\n",
      "22              33          33          33\n",
      "23              31          31          31\n",
      "24              27          27          27\n",
      "25              27          27          27\n",
      "26              37          37          37\n",
      "27              29          29          29\n",
      "28              28          28          28\n",
      "29              35          35          35\n",
      "30              41          41          41\n",
      "31              26          26          26\n",
      "32              33          33          33\n",
      "33              31          31          31\n",
      "34              38          38          38\n",
      "35              25          25          25\n",
      "36              26          26          26\n",
      "37              32          32          32\n",
      "38              33          33          33\n",
      "39              23          23          23\n",
      "40              36          36          36\n",
      "<class 'pandas.core.frame.DataFrame'>\n",
      "RangeIndex: 1216 entries, 0 to 1215\n",
      "Data columns (total 4 columns):\n",
      " #   Column      Non-Null Count  Dtype  \n",
      "---  ------      --------------  -----  \n",
      " 0   happiness   1216 non-null   float64\n",
      " 1   rewardSubj  1216 non-null   float64\n",
      " 2   rewardPart  1216 non-null   float64\n",
      " 3   subject     1216 non-null   int64  \n",
      "dtypes: float64(3), int64(1)\n",
      "memory usage: 38.1 KB\n",
      "None\n"
     ]
    },
    {
     "data": {
      "text/html": [
       "<div>\n",
       "<style scoped>\n",
       "    .dataframe tbody tr th:only-of-type {\n",
       "        vertical-align: middle;\n",
       "    }\n",
       "\n",
       "    .dataframe tbody tr th {\n",
       "        vertical-align: top;\n",
       "    }\n",
       "\n",
       "    .dataframe thead th {\n",
       "        text-align: right;\n",
       "    }\n",
       "</style>\n",
       "<table border=\"1\" class=\"dataframe\">\n",
       "  <thead>\n",
       "    <tr style=\"text-align: right;\">\n",
       "      <th></th>\n",
       "      <th>happiness</th>\n",
       "      <th>rewardSubj</th>\n",
       "      <th>rewardPart</th>\n",
       "      <th>subject</th>\n",
       "    </tr>\n",
       "  </thead>\n",
       "  <tbody>\n",
       "    <tr>\n",
       "      <th>count</th>\n",
       "      <td>1216.000000</td>\n",
       "      <td>1216.000000</td>\n",
       "      <td>1216.000000</td>\n",
       "      <td>1216.000000</td>\n",
       "    </tr>\n",
       "    <tr>\n",
       "      <th>mean</th>\n",
       "      <td>0.046954</td>\n",
       "      <td>0.146234</td>\n",
       "      <td>0.154984</td>\n",
       "      <td>20.464638</td>\n",
       "    </tr>\n",
       "    <tr>\n",
       "      <th>std</th>\n",
       "      <td>1.062559</td>\n",
       "      <td>0.420683</td>\n",
       "      <td>0.425977</td>\n",
       "      <td>11.780031</td>\n",
       "    </tr>\n",
       "    <tr>\n",
       "      <th>min</th>\n",
       "      <td>-4.029292</td>\n",
       "      <td>-1.500000</td>\n",
       "      <td>-1.080000</td>\n",
       "      <td>1.000000</td>\n",
       "    </tr>\n",
       "    <tr>\n",
       "      <th>25%</th>\n",
       "      <td>-0.688723</td>\n",
       "      <td>-0.050000</td>\n",
       "      <td>-0.080000</td>\n",
       "      <td>10.000000</td>\n",
       "    </tr>\n",
       "    <tr>\n",
       "      <th>50%</th>\n",
       "      <td>0.122707</td>\n",
       "      <td>0.000000</td>\n",
       "      <td>0.000000</td>\n",
       "      <td>21.000000</td>\n",
       "    </tr>\n",
       "    <tr>\n",
       "      <th>75%</th>\n",
       "      <td>0.785709</td>\n",
       "      <td>0.420000</td>\n",
       "      <td>0.420000</td>\n",
       "      <td>30.000000</td>\n",
       "    </tr>\n",
       "    <tr>\n",
       "      <th>max</th>\n",
       "      <td>4.121373</td>\n",
       "      <td>1.500000</td>\n",
       "      <td>1.500000</td>\n",
       "      <td>40.000000</td>\n",
       "    </tr>\n",
       "  </tbody>\n",
       "</table>\n",
       "</div>"
      ],
      "text/plain": [
       "         happiness   rewardSubj   rewardPart      subject\n",
       "count  1216.000000  1216.000000  1216.000000  1216.000000\n",
       "mean      0.046954     0.146234     0.154984    20.464638\n",
       "std       1.062559     0.420683     0.425977    11.780031\n",
       "min      -4.029292    -1.500000    -1.080000     1.000000\n",
       "25%      -0.688723    -0.050000    -0.080000    10.000000\n",
       "50%       0.122707     0.000000     0.000000    21.000000\n",
       "75%       0.785709     0.420000     0.420000    30.000000\n",
       "max       4.121373     1.500000     1.500000    40.000000"
      ]
     },
     "execution_count": 4,
     "metadata": {},
     "output_type": "execute_result"
    }
   ],
   "source": [
    "# Checking how the dataset looks\n",
    "\n",
    "print(f'The shape of df is {df.shape}\\n')\n",
    "print(df.groupby(['subject']).count())\n",
    "print(df.info())\n",
    "df.describe()"
   ]
  },
  {
   "cell_type": "markdown",
   "id": "b437efbf-f4b4-44de-bb13-8b4e3d5ebda3",
   "metadata": {},
   "source": [
    "Checked for:\n",
    "\n",
    "1) NaN values - None\n",
    "2) Number of trials per subject is different\n",
    "3) Mean of the variables to get an idea of the data set"
   ]
  },
  {
   "cell_type": "code",
   "execution_count": 5,
   "id": "f992b090",
   "metadata": {},
   "outputs": [
    {
     "data": {
      "text/plain": [
       "<AxesSubplot:>"
      ]
     },
     "execution_count": 5,
     "metadata": {},
     "output_type": "execute_result"
    },
    {
     "data": {
      "image/png": "[encoded data removed]",
      "text/plain": [
       "<Figure size 432x288 with 1 Axes>"
      ]
     },
     "metadata": {
      "needs_background": "light"
     },
     "output_type": "display_data"
    }
   ],
   "source": [
    "# Checking percentage of rows with equal values for self and other for each participant\n",
    "\n",
    "df[df['rewardSubj']==df['rewardPart']]\n",
    "frac = (df[df['rewardSubj']==df['rewardPart']].value_counts(subset=['subject'])/df.value_counts(subset=['subject']))\n",
    "sns.scatterplot(y=frac, x=range(40))"
   ]
  },
  {
   "cell_type": "markdown",
   "id": "aae18d36",
   "metadata": {},
   "source": [
    "#### For most participants, at least one third of the rows have equal values for self and the partner so their Charness-Rabin utility will be independent of alpha and beta. Use independent rows to regress happiness vs utilities and the rest to get alpha and beta"
   ]
  },
  {
   "cell_type": "markdown",
   "id": "65cfa279-f7fb-414e-961f-95336e021705",
   "metadata": {},
   "source": [
    "#### Tentative algorithm:\n",
    "1) Use rows with equal values to estimate relation between happiness and utilities so that they are scaled in a sense to the same dimension while calculating for alpha and beta\n",
    "2) Normalize happiness using z score\n",
    "3) Calculate squared error and plot \n",
    "\n",
    "There is only one utility matrix in this one because there is only one dependent variable"
   ]
  },
  {
   "cell_type": "code",
   "execution_count": 6,
   "id": "684ab81b",
   "metadata": {},
   "outputs": [],
   "source": [
    "# Grid parameters\n",
    "\n",
    "steps = 11 ##### Input number of steps here\n",
    "N = df.shape[0]\n",
    "\n",
    "alpha_range = np.linspace(0, 1, steps, endpoint=True)\n",
    "beta_range  = np.linspace(0, 1, steps, endpoint=True)\n",
    "col = []\n",
    "\n",
    "for alpha in alpha_range: \n",
    "    for beta in beta_range: \n",
    "        name = str(alpha), str(beta)\n",
    "        col  = col + [name]"
   ]
  },
  {
   "cell_type": "code",
   "execution_count": 7,
   "id": "2a1ee5f2",
   "metadata": {},
   "outputs": [],
   "source": [
    "# Create an empty dataframe\n",
    "utilities = pd.DataFrame(index=df.index, columns=col)"
   ]
  },
  {
   "cell_type": "code",
   "execution_count": 8,
   "id": "b46c8caa",
   "metadata": {},
   "outputs": [],
   "source": [
    "# Utility Grid\n",
    "\n",
    "for alpha in alpha_range: \n",
    "    for beta in beta_range: \n",
    "        name = str(alpha), str(beta)\n",
    "        utilities[name][df['rewardSubj']>df['rewardPart']]  = (1-beta)*df['rewardSubj'][df['rewardSubj']>df['rewardPart']]+beta*df['rewardPart'][df['rewardSubj']>df['rewardPart']]\n",
    "        utilities[name][df['rewardSubj']<df['rewardPart']]  = (1-alpha)*df['rewardSubj'][df['rewardSubj']<df['rewardPart']]+alpha*df['rewardPart'][df['rewardSubj']<df['rewardPart']]\n",
    "        utilities[name][df['rewardSubj']==df['rewardPart']] = df['rewardSubj'][df['rewardSubj']==df['rewardPart']]"
   ]
  },
  {
   "cell_type": "code",
   "execution_count": 9,
   "id": "1d05e918",
   "metadata": {},
   "outputs": [],
   "source": [
    "# Normalize happiness (participant wise?)\n",
    "\n",
    "mean = df['happiness'].mean()\n",
    "std = df['happiness'].std()\n",
    "df['z_hap'] = (df['happiness']-mean)/std"
   ]
  },
  {
   "cell_type": "code",
   "execution_count": 10,
   "id": "79f8e6f5",
   "metadata": {},
   "outputs": [
    {
     "data": {
      "text/plain": [
       "Text(0, 0.5, 'Coeff of z_hap vs utilities per participant')"
      ]
     },
     "execution_count": 10,
     "metadata": {},
     "output_type": "execute_result"
    },
    {
     "data": {
      "image/png": "[encoded data removed]",
      "text/plain": [
       "<Figure size 432x288 with 1 Axes>"
      ]
     },
     "metadata": {
      "needs_background": "light"
     },
     "output_type": "display_data"
    }
   ],
   "source": [
    "# Finding relation between z_happiness and utilities where utilities are independent of alpha and beta wrt subject\n",
    "\n",
    "index = df['rewardSubj']==df['rewardPart'] # where utilities of self and other are equal\n",
    "\n",
    "coef = []\n",
    "for i in df['subject'].unique():\n",
    "    indx = index & (df['subject']==i)\n",
    "    y = df['z_hap'][indx].tolist()\n",
    "    x = utilities.iloc[:, 0][indx].tolist()\n",
    "    c = P.polyfit(x, y, deg=1)\n",
    "    coef = coef + [c[1]]\n",
    "\n",
    "\n",
    "graph = sns.scatterplot(y=coef, x=range(40))\n",
    "graph.axhline(0)\n",
    "plt.ylabel('Coeff of z_hap vs utilities per participant')"
   ]
  },
  {
   "cell_type": "markdown",
   "id": "521f59b4",
   "metadata": {},
   "source": [
    "##### For two subjects happiness decreases as utility increases"
   ]
  },
  {
   "cell_type": "code",
   "execution_count": 11,
   "id": "55e0f7e9",
   "metadata": {},
   "outputs": [],
   "source": [
    "# Calculating squared error for the rows where rewards for self and other are not equal\n",
    "\n",
    "index = df['rewardSubj']!=df['rewardPart']\n",
    "N, total_col = utilities[index].shape\n",
    "trials = df[index].value_counts(subset=['subject']).sort_index()\n",
    "data = []\n",
    "\n",
    "\n",
    "error = utilities[index].sub(df['z_hap'][index], axis=0)\n",
    "error = error**2\n",
    "error['subject'] = df['subject'][index]\n",
    "\n",
    "for i in df['subject'].unique(): # coef scales the utilities by coefficient\n",
    "    data = data + [coef[i-1]*(error[error['subject']==i].sum())/trials[i]]\n",
    "    \n",
    "mse = pd.DataFrame(data=data)"
   ]
  },
  {
   "cell_type": "code",
   "execution_count": 12,
   "id": "ae5ce04c",
   "metadata": {},
   "outputs": [],
   "source": [
    "#mse.head() ## uncomment to see how mse looks like "
   ]
  },
  {
   "cell_type": "code",
   "execution_count": 13,
   "id": "7e4cd80d",
   "metadata": {},
   "outputs": [],
   "source": [
    "# Min mse:\n",
    "\n",
    "mse.drop(columns=['subject'], inplace=True) # Drop subject column from mse\n",
    "min_mse = mse.idxmin(axis=1)"
   ]
  },
  {
   "cell_type": "code",
   "execution_count": 14,
   "id": "3c7d10b6",
   "metadata": {},
   "outputs": [
    {
     "data": {
      "text/plain": [
       "Text(0.5, 1.0, 'Alpha')"
      ]
     },
     "execution_count": 14,
     "metadata": {},
     "output_type": "execute_result"
    },
    {
     "data": {
      "image/png": "[encoded data removed]",
      "text/plain": [
       "<Figure size 432x288 with 1 Axes>"
      ]
     },
     "metadata": {
      "needs_background": "light"
     },
     "output_type": "display_data"
    }
   ],
   "source": [
    "# Creating list of alphas for each subject\n",
    "\n",
    "obs_alpha = []\n",
    "\n",
    "for x in min_mse:\n",
    "    obs_alpha = obs_alpha + [x[0]]\n",
    "    \n",
    "obs_alpha = [float(x) for x in obs_alpha]\n",
    "#obs_alpha\n",
    "\n",
    "\n",
    "# Plotting alpha\n",
    "\n",
    "plt.hist(obs_alpha, bins=11)\n",
    "plt.title('Alpha')"
   ]
  },
  {
   "cell_type": "code",
   "execution_count": 15,
   "id": "66433f9d",
   "metadata": {},
   "outputs": [
    {
     "data": {
      "text/plain": [
       "Text(0.5, 1.0, 'Beta')"
      ]
     },
     "execution_count": 15,
     "metadata": {},
     "output_type": "execute_result"
    },
    {
     "data": {
      "image/png": "[encoded data removed]",
      "text/plain": [
       "<Figure size 432x288 with 1 Axes>"
      ]
     },
     "metadata": {
      "needs_background": "light"
     },
     "output_type": "display_data"
    }
   ],
   "source": [
    "# Creating list of betas for each subject\n",
    "\n",
    "obs_beta = []\n",
    "\n",
    "for x in min_mse:\n",
    "    obs_beta = obs_beta + [x[1]]\n",
    "    \n",
    "obs_beta = [float(x) for x in obs_beta]\n",
    "# obs_beta\n",
    "\n",
    "\n",
    "# PLotting beta\n",
    "\n",
    "plt.hist(obs_beta, bins=11)\n",
    "plt.title('Beta')"
   ]
  },
  {
   "cell_type": "code",
   "execution_count": null,
   "id": "33a99dca",
   "metadata": {},
   "outputs": [],
   "source": []
  },
  {
   "cell_type": "code",
   "execution_count": null,
   "id": "006a0c6b",
   "metadata": {},
   "outputs": [],
   "source": []
  },
  {
   "cell_type": "code",
   "execution_count": null,
   "id": "a84079dc",
   "metadata": {},
   "outputs": [],
   "source": []
  }
 ],
 "metadata": {
  "kernelspec": {
   "display_name": "Python 3",
   "language": "python",
   "name": "python3"
  },
  "language_info": {
   "codemirror_mode": {
    "name": "ipython",
    "version": 3
   },
   "file_extension": ".py",
   "mimetype": "text/x-python",
   "name": "python",
   "nbconvert_exporter": "python",
   "pygments_lexer": "ipython3",
   "version": "3.8.8"
  }
 },
 "nbformat": 4,
 "nbformat_minor": 5
}
